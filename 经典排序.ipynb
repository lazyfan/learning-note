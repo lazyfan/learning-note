{
 "cells": [
  {
   "cell_type": "markdown",
   "metadata": {},
   "source": [
    "# 排序\n",
    "\n",
    "动图演示：https://www.cnblogs.com/fivestudy/p/10064969.html\n"
   ]
  },
  {
   "cell_type": "markdown",
   "metadata": {},
   "source": [
    "https://github.com/CyC2018/CS-Notes/blob/master/notes/%E7%AE%97%E6%B3%95%20-%20%E6%8E%92%E5%BA%8F.md"
   ]
  },
  {
   "cell_type": "markdown",
   "metadata": {},
   "source": [
    "## 1. 冒泡排序\n",
    "\n",
    "稳定排序法\n",
    "\n",
    "最好的情况是只做$n-1$次比较，时间复杂度为$O(n)$，最坏情况需比较$\\frac{n(n-1)}{2}$次，时间复杂度为$O(n^2)$。平均时间复杂度$O(n^2)$\n",
    "\n",
    "只需一个额外空间，空间复杂度$O(1)$"
   ]
  },
  {
   "cell_type": "code",
   "execution_count": 29,
   "metadata": {},
   "outputs": [],
   "source": [
    "def bubble_sort(data):\n",
    "    for i in range(len(data)-1,-1,-1):\n",
    "        # 设置flag，如果没有执行交换操作，表示排序完成，退出循环，\n",
    "        # 提高运行效率\n",
    "        flag = 0        \n",
    "        # 一次循环后将最大的交换到后面，像冒泡一样\n",
    "        for j in range(i):\n",
    "            if data[j] > data[j+1]: \n",
    "                data[j], data[j+1] = data[j+1], data[j]\n",
    "                flag += 1\n",
    "#             print(data)\n",
    "#         print(i, '='*28)\n",
    "        if flag == 0:\n",
    "            break"
   ]
  },
  {
   "cell_type": "code",
   "execution_count": 30,
   "metadata": {},
   "outputs": [
    {
     "name": "stdout",
     "output_type": "stream",
     "text": [
      "[1, 2, 3, 4, 5, 6, 7, 8, 9, 10]\n"
     ]
    }
   ],
   "source": [
    "list_test = [6,1,2,7,9,3,4,5,10,8]\n",
    "bubble_sort(list_test)\n",
    "print(list_test)"
   ]
  },
  {
   "cell_type": "markdown",
   "metadata": {},
   "source": [
    "## 2. 选择排序\n",
    "\n",
    "从数组中选择最小元素，将它与数组的第一个元素交换位置。再从数组剩下的元素中选择出最小的元素，将它与数组的第二个元素交换位置。不断进行这样的操作，直到将整个数组排序。\n",
    "\n",
    "由于最大或者最小值直接与前方未排序的值交换，数据顺序很可能不是被改变，故是**不稳定排序法**\n",
    "\n",
    "它的运行时间与输入排序无关，无论最佳、最坏、平均情况都需要比较$\\frac{n(n-1)}{2}$次，时间复杂度为$O(n^2)$\n",
    "\n",
    "只需一个额外空间，空间复杂度$O(1)$"
   ]
  },
  {
   "cell_type": "code",
   "execution_count": 21,
   "metadata": {},
   "outputs": [],
   "source": [
    "def selection_sort1(data):\n",
    "    for i in range(len(data)-1):\n",
    "        for j in range(i+1,len(data)):\n",
    "            if data[i] > data[j]:\n",
    "                data[i], data[j] = data[j], data[i]\n",
    "        print(data)\n",
    "#         print(i, '='*28)"
   ]
  },
  {
   "cell_type": "code",
   "execution_count": 54,
   "metadata": {},
   "outputs": [],
   "source": [
    "def selection_sort2(data):\n",
    "    for i in range(len(data)-1):\n",
    "        small = i\n",
    "        for j in range(i+1,len(data)):\n",
    "            if data[small] > data[j]:\n",
    "                small = j\n",
    "        # 每次循环只交换一次\n",
    "        data[small], data[i] = data[i], data[small]\n",
    "#         print(data)\n"
   ]
  },
  {
   "cell_type": "code",
   "execution_count": 55,
   "metadata": {
    "scrolled": false
   },
   "outputs": [
    {
     "name": "stdout",
     "output_type": "stream",
     "text": [
      "[1, 2, 3, 4, 5, 6, 7, 8, 9, 10]\n"
     ]
    }
   ],
   "source": [
    "list_test = [10,1,2,7,9,3,4,5,6,8]\n",
    "selection_sort2(list_test)\n",
    "print(list_test)"
   ]
  },
  {
   "cell_type": "markdown",
   "metadata": {},
   "source": [
    "## 3. 插入排序\n",
    "\n",
    "适用于大部分数据已经过排序\n",
    "\n",
    "每次都将当前元素插入到左侧已经排序的数组中\n",
    "\n",
    "对于数组 [3, 5, 2, 4, 1]，它具有以下逆序：(3, 2), (3, 1), (5, 2), (5, 4), (5, 1), (2, 1), (4, 1)，插入排序每次只能交换相邻元素，令逆序数量减少 1，因此插入排序需要交换的**次数为逆序数量**。\n",
    "\n",
    "稳定排序法\n",
    "\n",
    "插入排序的时间复杂度取决于数组的初始顺序，如果数组已经部分有序了，那么逆序较少，需要的交换次数也就较少，时间复杂度较低。最好的情况是只做$n-1$次比较，时间复杂度为$O(n)$，最坏需比较$\\frac{n(n-1)}{2}$次，时间复杂度为$O(n^2)$。平均时间复杂度$O(n^2)$\n",
    "\n",
    "只需一个额外空间，空间复杂度$O(1)$"
   ]
  },
  {
   "cell_type": "code",
   "execution_count": 49,
   "metadata": {},
   "outputs": [],
   "source": [
    "def insert_sort1(data):\n",
    "    for i in range(1,len(data)):\n",
    "        tmp = data[i]\n",
    "        no = i\n",
    "        while no-1 >= 0 and data[no-1] > tmp:\n",
    "            data[no] = data[no-1]\n",
    "            no -= 1\n",
    "#             print(data)\n",
    "        data[no] = tmp"
   ]
  },
  {
   "cell_type": "code",
   "execution_count": 50,
   "metadata": {},
   "outputs": [
    {
     "name": "stdout",
     "output_type": "stream",
     "text": [
      "[1, 2, 3, 4, 5, 6, 7, 8, 9, 10]\n"
     ]
    }
   ],
   "source": [
    "list_test = [6,1,2,7,9,3,4,5,10,8]\n",
    "insert_sort1(list_test)\n",
    "print(list_test)"
   ]
  },
  {
   "cell_type": "code",
   "execution_count": 51,
   "metadata": {},
   "outputs": [],
   "source": [
    "def insert_sort2(data):\n",
    "    for i in range(1,len(data)):\n",
    "        tmp = data[i]\n",
    "        no = i\n",
    "        for j in range(i-1,-1,-1):\n",
    "            if data[j] > tmp:\n",
    "                data[j+1] = data[j]\n",
    "                no = j\n",
    "#                 print(data)\n",
    "            else:\n",
    "                break\n",
    "        data[no] = tmp       "
   ]
  },
  {
   "cell_type": "code",
   "execution_count": 52,
   "metadata": {},
   "outputs": [
    {
     "name": "stdout",
     "output_type": "stream",
     "text": [
      "[1, 2, 3, 4, 5, 6, 7, 8, 9, 10]\n"
     ]
    }
   ],
   "source": [
    "list_test = [6,1,2,7,9,3,4,5,10,8]\n",
    "insert_sort2(list_test)\n",
    "print(list_test)"
   ]
  },
  {
   "cell_type": "markdown",
   "metadata": {},
   "source": [
    "## 4. 希尔排序\n",
    "\n",
    "希尔排序可以减少插入排序中数据搬运的次数。将数据区分成特定间隔的几个小区块，以插入排序法排完区块内的数据后再逐渐减少间隔的距离。当间隔为1时，就是插入排序。\n",
    "\n",
    "稳定排序法\n",
    "\n",
    "任何情况的时间复杂度均为$O(n^{\\frac{3}{2}})$\n",
    "\n",
    "只需一个额外空间，空间复杂度$O(1)$"
   ]
  },
  {
   "cell_type": "code",
   "execution_count": 59,
   "metadata": {},
   "outputs": [],
   "source": [
    "def shell_sort(data):\n",
    "    jump = len(data) // 2\n",
    "    while jump != 0:\n",
    "        for i in range(jump, len(data)):\n",
    "            tmp = data[i]\n",
    "            no = i\n",
    "            # 插入排序\n",
    "            while no-jump>=0 and data[no-jump] > tmp:\n",
    "                data[no] = data[no - jump]\n",
    "                no -= jump\n",
    "            data[no] = tmp\n",
    "        jump = jump // 2\n"
   ]
  },
  {
   "cell_type": "code",
   "execution_count": 58,
   "metadata": {},
   "outputs": [
    {
     "name": "stdout",
     "output_type": "stream",
     "text": [
      "[1, 2, 3, 4, 5, 6, 7, 8, 9, 10]\n"
     ]
    }
   ],
   "source": [
    "list_test = [6,1,2,7,9,3,4,5,10,8]\n",
    "shell_sort(list_test)\n",
    "print(list_test)"
   ]
  },
  {
   "cell_type": "markdown",
   "metadata": {},
   "source": [
    "## 5. 归并排序\n",
    "\n",
    "针对两个或两个以上排好序的数列，通过合并的方式组合一起\n",
    "\n",
    "**2-way合并排序:**\n",
    "\n",
    "将数列视为N个已经排好序且长度为1的数列，两两合并，结合成N/2个已经排好序且长度为2的数列；以同样的做法，再两两合并，最后合并成1个长度为N的数列。\n",
    "\n",
    "稳定排序法\n",
    "\n",
    "$n$项数据一般需要约$log_2n$次处理，每次处理的时间复杂度为$O(n)$，所以在任何情况下的时间复杂度均为$O(nlogn)$\n",
    "\n",
    "在排序过程中需要一个和数列同样大小的额外空间，所空间复杂度$O(n)$"
   ]
  },
  {
   "cell_type": "code",
   "execution_count": 5,
   "metadata": {},
   "outputs": [
    {
     "name": "stdout",
     "output_type": "stream",
     "text": [
      "[3, 4, 5, 7, 8, 9]\n"
     ]
    }
   ],
   "source": [
    "def merge(a, b):\n",
    "    res = []\n",
    "    i = j = 0\n",
    "    while i < len(a) and j < len(b):\n",
    "        if a[i] < b[j]:\n",
    "            res.append(a[i])\n",
    "            i += 1\n",
    "        else:\n",
    "            res.append(b[j])\n",
    "            j += 1\n",
    "#     return res+a[i:]+b[j:]\n",
    "    if i == len(a):\n",
    "        res.extend(b[j:])\n",
    "    else:\n",
    "        res.extend(a[i:])\n",
    "    return res\n",
    "\n",
    "\n",
    "def merge_sort(data):\n",
    "    if len(data) <= 1:\n",
    "        return data\n",
    "    mid = len(data)//2\n",
    "    left = merge_sort(data[:mid])\n",
    "    right = merge_sort(data[mid:])\n",
    "    return merge(left, right)\n",
    "\n",
    "\n",
    "if __name__ == '__main__':\n",
    "    a = [4, 7, 8, 3, 5, 9]\n",
    "    print(merge_sort(a))"
   ]
  },
  {
   "cell_type": "markdown",
   "metadata": {},
   "source": [
    "两个已排序好的序列合并："
   ]
  },
  {
   "cell_type": "code",
   "execution_count": 79,
   "metadata": {},
   "outputs": [],
   "source": [
    "def merge_sort1(data):\n",
    "    len_data = len(data)\n",
    "    data1 = data[:len_data//2]\n",
    "    data2 = data[len_data//2:]\n",
    "    \n",
    "    selection_sort2(data1)\n",
    "    selection_sort2(data2)\n",
    "    print(data1)\n",
    "    print(data2)\n",
    "    \n",
    "    # 合并\n",
    "    # 还有优化空间\n",
    "    index1 = 0\n",
    "    index2 = 0\n",
    "    data3 = []\n",
    "    while index1 < len(data1) and index2 < len(data2):\n",
    "        if data1[index1] < data2[index2]:\n",
    "            data3.append(data1[index1])\n",
    "            index1 += 1\n",
    "#             print('1:',index1)\n",
    "        else:\n",
    "            data3.append(data2[index2])\n",
    "            index2 += 1\n",
    "#             print('2:',index2)\n",
    "    return data3 + data1[index1:] + data2[index2:]"
   ]
  },
  {
   "cell_type": "code",
   "execution_count": 76,
   "metadata": {},
   "outputs": [],
   "source": [
    "# 虽然代码不简洁，但是减少了空间的利用\n",
    "def merge_sort2(data):\n",
    "    len_data = len(data)\n",
    "    data1 = data[:len_data//2]\n",
    "    data2 = data[len_data//2:]\n",
    "    \n",
    "    selection_sort2(data1)\n",
    "    selection_sort2(data2)\n",
    "    print(data1)\n",
    "    print(data2)\n",
    "\n",
    "    index1 = 0\n",
    "    index2 = 0\n",
    "    for i in range(len(data)):\n",
    "        if data1[index1] < data2[index2]:\n",
    "            data[i] = data1[index1]\n",
    "            index1 += 1\n",
    "            if index1 == len(data1):\n",
    "                break\n",
    "        else:\n",
    "            data[i] = data2[index2]\n",
    "            index2 += 1\n",
    "            if index2 == len(data2):\n",
    "                break\n",
    "    if index1 != len(data1):\n",
    "        for j in range(index1, len(data1)):\n",
    "            data[index2+j] = data1[j]\n",
    "    if index2 != len(data2):\n",
    "        for j in range(index2, len(data2)):\n",
    "            data[index1+j] = data2[j]"
   ]
  },
  {
   "cell_type": "code",
   "execution_count": 81,
   "metadata": {},
   "outputs": [
    {
     "name": "stdout",
     "output_type": "stream",
     "text": [
      "[2, 3, 6, 7, 9]\n",
      "[1, 4, 5, 8, 10]\n"
     ]
    },
    {
     "data": {
      "text/plain": [
       "[1, 2, 3, 4, 5, 6, 7, 8, 9, 10]"
      ]
     },
     "execution_count": 81,
     "metadata": {},
     "output_type": "execute_result"
    }
   ],
   "source": [
    "list_test = [6,2,7,9,3,4,5,10,8,1]\n",
    "merge_sort1(list_test)\n",
    "# print(list_test)"
   ]
  },
  {
   "cell_type": "markdown",
   "metadata": {},
   "source": [
    "## 6. 快速排序"
   ]
  },
  {
   "cell_type": "markdown",
   "metadata": {},
   "source": [
    "相对来说最好的排序算法，运用了递归“分而治之”的思想\n",
    "\n",
    "**不是稳定的排序算法**\n",
    "\n",
    "在最快和平均情况下，时间复杂度为$O(nlogn)$，最坏的情况就是每次挑选的中间值不是最大就是最小，最坏情况下时间复杂度$O(n^2)$。\n",
    "\n",
    "空间复杂度$O(nlogn)-O(n)$"
   ]
  },
  {
   "cell_type": "code",
   "execution_count": 5,
   "metadata": {},
   "outputs": [],
   "source": [
    "def quick_sort1(data, low, high):\n",
    "    if high > low:\n",
    "        #传入参数，通过Partitions函数，获取k下标值\n",
    "        left = low\n",
    "        right = high\n",
    "        #将最左侧的值赋值给参考值k\n",
    "        k = data[low]\n",
    "        #当left下标，小于right下标的情况下，此时判断二者移动是否相交，若未相交，则一直循环\n",
    "        while left < right :\n",
    "            # 当right对应的值大于k参考值，就一直向左移动\n",
    "            while left < right and data[right] > k:\n",
    "                right -= 1\n",
    "            #当left对应的值小于k参考值，就一直向右移动\n",
    "            while left < right and data[left] <= k:\n",
    "                left += 1\n",
    "            #若移动完，二者仍未相遇则交换下标对应的值\n",
    "            data[left],data[right] = data[right],data[left]\n",
    "            print(data, 'idx:',left, right)\n",
    "        # left==right 若移动完，已经相遇，则交换right对应的值和参考值\n",
    "        data[low], data[right] = data[right], k\n",
    "        print(data)\n",
    "        print('+' + '='*39 + '+')\n",
    "        QuickSort(data,low,right-1)\n",
    "        # 递归排序列表k下标右侧的列表\n",
    "        QuickSort(data,right+1,high)"
   ]
  },
  {
   "cell_type": "code",
   "execution_count": 114,
   "metadata": {
    "scrolled": false
   },
   "outputs": [
    {
     "name": "stdout",
     "output_type": "stream",
     "text": [
      "[6, 1, 2, 5, 9, 3, 4, 7, 10, 8] idx: 3 7\n",
      "[6, 1, 2, 5, 4, 3, 9, 7, 10, 8] idx: 4 6\n",
      "[6, 1, 2, 5, 4, 3, 9, 7, 10, 8] idx: 5 5\n",
      "[3, 1, 2, 5, 4, 6, 9, 7, 10, 8]\n",
      "+=======================================+\n",
      "[3, 1, 2, 5, 4, 6, 9, 7, 10, 8] idx: 2 2\n",
      "[2, 1, 3, 5, 4, 6, 9, 7, 10, 8]\n",
      "+=======================================+\n",
      "[2, 1, 3, 5, 4, 6, 9, 7, 10, 8] idx: 1 1\n",
      "[1, 2, 3, 5, 4, 6, 9, 7, 10, 8]\n",
      "+=======================================+\n",
      "[1, 2, 3, 5, 4, 6, 9, 7, 10, 8] idx: 4 4\n",
      "[1, 2, 3, 4, 5, 6, 9, 7, 10, 8]\n",
      "+=======================================+\n",
      "[1, 2, 3, 4, 5, 6, 9, 7, 8, 10] idx: 8 9\n",
      "[1, 2, 3, 4, 5, 6, 9, 7, 8, 10] idx: 8 8\n",
      "[1, 2, 3, 4, 5, 6, 8, 7, 9, 10]\n",
      "+=======================================+\n",
      "[1, 2, 3, 4, 5, 6, 8, 7, 9, 10] idx: 7 7\n",
      "[1, 2, 3, 4, 5, 6, 7, 8, 9, 10]\n",
      "+=======================================+\n",
      "0.002000093460083008\n"
     ]
    }
   ],
   "source": [
    "list_demo = [6,1,2,7,9,3,4,5,10,8]\n",
    "s1 = time.time()\n",
    "quick_sort1(list_demo,0,9)\n",
    "e1 = time.time()\n",
    "print(e1-s1)\n",
    "#print(list_demo)"
   ]
  },
  {
   "cell_type": "code",
   "execution_count": 4,
   "metadata": {},
   "outputs": [],
   "source": [
    "def quick_sort2(data):    \n",
    "    \"\"\"快速排序\"\"\"    \n",
    "    if len(data) >= 2:  # 递归入口及出口        \n",
    "        mid = data[len(data)//2]  # 选取基准值，也可以选取第一个或最后一个元素        \n",
    "        left, right = [], []  # 定义基准值左右两侧的列表        \n",
    "        data.remove(mid)  # 从原始数组中移除基准值        \n",
    "        for num in data:            \n",
    "            if num >= mid:                \n",
    "                right.append(num)            \n",
    "            else:                \n",
    "                left.append(num)        \n",
    "        return quick_sort(left) + [mid] + quick_sort(right)    \n",
    "    else:        \n",
    "        return data"
   ]
  },
  {
   "cell_type": "code",
   "execution_count": 130,
   "metadata": {},
   "outputs": [
    {
     "name": "stdout",
     "output_type": "stream",
     "text": [
      "0.0\n"
     ]
    }
   ],
   "source": [
    "list_test = [6,1,2,7,9,3,4,5,10,8]\n",
    "s2 = time.time()\n",
    "quick_sort2(list_test)\n",
    "e2 = time.time()\n",
    "print(e2-s2)\n",
    "#print(list_test)"
   ]
  },
  {
   "cell_type": "markdown",
   "metadata": {},
   "source": [
    "## 7. 堆积排序\n",
    "\n",
    "不稳定的排序算法\n",
    "\n",
    "在所有的情况下，时间复杂度为$O(nlog)$\n",
    "\n",
    "只需要一个额外的空间，空间复杂度为$O(n)$"
   ]
  },
  {
   "cell_type": "code",
   "execution_count": 7,
   "metadata": {},
   "outputs": [],
   "source": [
    "def heap_sort(data):\n",
    "    for i in range(len(data)//2,0,-1):\n",
    "        ad_heap(data,i,len(data)-1)\n",
    "    for i in range(len(data)-2,0,-1):\n",
    "        data[i+1], data[0] = data[0], data[i+1]\n",
    "        ad_heap(data, 1, i)\n",
    "\n",
    "def ad_heap(data, i, size):\n",
    "    j = 2*i\n",
    "    tmp = data[i]\n",
    "    post = 0\n",
    "    while j<=size and post==0:\n",
    "        if j<size and data[j]<data[j+1]:\n",
    "            j += 1\n",
    "        if tmp >= data[j]:\n",
    "            post = 1\n",
    "        else:\n",
    "            data[j//2] = data[j]\n",
    "            j = 2*j\n",
    "    data[j//2] = tmp\n"
   ]
  },
  {
   "cell_type": "code",
   "execution_count": 8,
   "metadata": {},
   "outputs": [
    {
     "name": "stdout",
     "output_type": "stream",
     "text": [
      "[9, 10, 7, 8, 3, 4, 5, 2, 1, 6]\n"
     ]
    }
   ],
   "source": [
    "list_test = [6,1,2,7,9,3,4,5,10,8]\n",
    "heap_sort(list_test)\n",
    "print(list_test)"
   ]
  },
  {
   "cell_type": "markdown",
   "metadata": {},
   "source": [
    "## 8. 基数排序"
   ]
  },
  {
   "cell_type": "code",
   "execution_count": null,
   "metadata": {},
   "outputs": [],
   "source": []
  },
  {
   "cell_type": "code",
   "execution_count": null,
   "metadata": {},
   "outputs": [],
   "source": []
  }
 ],
 "metadata": {
  "kernelspec": {
   "display_name": "Python 3",
   "language": "python",
   "name": "python3"
  },
  "language_info": {
   "codemirror_mode": {
    "name": "ipython",
    "version": 3
   },
   "file_extension": ".py",
   "mimetype": "text/x-python",
   "name": "python",
   "nbconvert_exporter": "python",
   "pygments_lexer": "ipython3",
   "version": "3.6.5"
  }
 },
 "nbformat": 4,
 "nbformat_minor": 2
}
